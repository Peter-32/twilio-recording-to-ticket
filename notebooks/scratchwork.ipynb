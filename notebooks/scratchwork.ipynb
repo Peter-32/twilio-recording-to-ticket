{
 "metadata": {
  "language_info": {
   "codemirror_mode": {
    "name": "ipython",
    "version": 3
   },
   "file_extension": ".py",
   "mimetype": "text/x-python",
   "name": "python",
   "nbconvert_exporter": "python",
   "pygments_lexer": "ipython3",
   "version": "3.8.3"
  },
  "orig_nbformat": 2,
  "kernelspec": {
   "name": "commons3",
   "display_name": "commons3",
   "language": "python"
  }
 },
 "nbformat": 4,
 "nbformat_minor": 2,
 "cells": [
  {
   "cell_type": "code",
   "execution_count": 1,
   "metadata": {},
   "outputs": [
    {
     "output_type": "error",
     "ename": "ModuleNotFoundError",
     "evalue": "No module named 'pyttsx3'",
     "traceback": [
      "\u001b[0;31m---------------------------------------------------------------------------\u001b[0m",
      "\u001b[0;31mModuleNotFoundError\u001b[0m                       Traceback (most recent call last)",
      "\u001b[0;32m<ipython-input-1-1ed08c6dccbf>\u001b[0m in \u001b[0;36m<module>\u001b[0;34m\u001b[0m\n\u001b[1;32m      2\u001b[0m \u001b[0;32mimport\u001b[0m \u001b[0mglob\u001b[0m\u001b[0;34m\u001b[0m\u001b[0;34m\u001b[0m\u001b[0m\n\u001b[1;32m      3\u001b[0m \u001b[0;32mimport\u001b[0m \u001b[0mtime\u001b[0m\u001b[0;34m\u001b[0m\u001b[0;34m\u001b[0m\u001b[0m\n\u001b[0;32m----> 4\u001b[0;31m \u001b[0;32mimport\u001b[0m \u001b[0mpyttsx3\u001b[0m\u001b[0;34m\u001b[0m\u001b[0;34m\u001b[0m\u001b[0m\n\u001b[0m\u001b[1;32m      5\u001b[0m \u001b[0;32mimport\u001b[0m \u001b[0mrequests\u001b[0m\u001b[0;34m\u001b[0m\u001b[0;34m\u001b[0m\u001b[0m\n\u001b[1;32m      6\u001b[0m \u001b[0;32mfrom\u001b[0m \u001b[0mtwilio\u001b[0m\u001b[0;34m.\u001b[0m\u001b[0mrest\u001b[0m \u001b[0;32mimport\u001b[0m \u001b[0mClient\u001b[0m\u001b[0;34m\u001b[0m\u001b[0;34m\u001b[0m\u001b[0m\n",
      "\u001b[0;31mModuleNotFoundError\u001b[0m: No module named 'pyttsx3'"
     ]
    }
   ],
   "source": [
    "import os\n",
    "import glob\n",
    "import time\n",
    "import pyttsx3\n",
    "import requests\n",
    "from twilio.rest import Client\n",
    "\n",
    "def react_to_recording(wav_file):\n",
    "    try:\n",
    "        r = sr.Recognizer()\n",
    "        audio_file = sr.AudioFile(wav_file)\n",
    "        with audio_file as source:\n",
    "            audio = r.record(source)\n",
    "        command = r.recognize_google(audio)\n",
    "        print(command)\n",
    "        return command\n",
    "    except:\n",
    "        pass\n",
    "\n",
    "def append_ideas_to_list(text):\n",
    "    if text == \"\":\n",
    "        return\n",
    "    df = pd.read_csv(tickets_to_make_file)\n",
    "    new_row = pd.DataFrame({'Ideas': [text], 'Priority': [''], 'Status': ['Backlog'], 'Notes': ['']})\n",
    "    df = df.append(new_row)\n",
    "    df.to_csv(tickets_to_make_file, index=False)        \n",
    "\n",
    "def speak_text(text):\n",
    "    engine = pyttsx3.init()\n",
    "    engine.startLoop(False)\n",
    "    engine.say(text)\n",
    "    engine.iterate()\n",
    "    time.sleep(0.10*len(text))\n",
    "    engine.endLoop()\n",
    "\n",
    "\n",
    "\n",
    "# Convert each recording into JIRA tickets and then move it into the processed folder\n",
    "current_directory = os.path.dirname(os.path.realpath(\"__file__\")) + \"/\"\n",
    "unprocessed_directory = os.path.join(current_directory, 'unprocessed_recordings')\n",
    "processed_directory = os.path.join(current_directory, 'processed_recordings')\n",
    "tickets_to_make_directory = os.path.join(current_directory, 'tickets_to_make')    \n",
    "tickets_to_make_file = f\"{tickets_to_make_directory}/data.csv\"\n",
    "wav_files = glob.glob(f\"{unprocessed_directory}/*\")\n",
    "for wav_file in wav_files:\n",
    "    command = react_to_recording(wav_file)\n",
    "    command = \"\" if command == None else command.lower()\n",
    "    response = command\n",
    "    append_ideas_to_list(response)\n",
    "    print(response)\n",
    "tickets_made = len(wav_files)\n",
    "speak_text(f\"Created {tickets_made} ticket{'s' if tickets_made != 1 else ''}\")\n"
   ]
  },
  {
   "cell_type": "code",
   "execution_count": null,
   "metadata": {},
   "outputs": [],
   "source": []
  }
 ]
}